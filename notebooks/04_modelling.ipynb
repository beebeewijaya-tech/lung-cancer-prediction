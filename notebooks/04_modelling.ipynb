{
 "cells": [
  {
   "attachments": {},
   "cell_type": "markdown",
   "metadata": {},
   "source": [
    "# PART 4: Modelling\n",
    "\n",
    "After EDA, let's modelling our data to do prediction"
   ]
  },
  {
   "cell_type": "code",
   "execution_count": 2,
   "metadata": {},
   "outputs": [],
   "source": [
    "\n",
    "import pandas as pd\n",
    "from sklearn.model_selection import train_test_split\n",
    "from sklearn.tree import DecisionTreeClassifier\n",
    "from sklearn import metrics\n",
    "from sklearn.preprocessing import StandardScaler\n",
    "from sklearn import tree\n",
    "import uuid\n",
    "import time\n",
    "from datetime import datetime\n",
    "import pickle\n",
    "\n",
    "import seaborn as sns\n",
    "import matplotlib.pyplot as plt\n",
    "%matplotlib inline  "
   ]
  },
  {
   "attachments": {},
   "cell_type": "markdown",
   "metadata": {},
   "source": [
    "### Importing our data\n",
    "\n",
    "Let's start by importing our data at `pre-processed/filtered_features.csv`"
   ]
  },
  {
   "cell_type": "code",
   "execution_count": 3,
   "metadata": {},
   "outputs": [
    {
     "data": {
      "text/html": [
       "<div>\n",
       "<style scoped>\n",
       "    .dataframe tbody tr th:only-of-type {\n",
       "        vertical-align: middle;\n",
       "    }\n",
       "\n",
       "    .dataframe tbody tr th {\n",
       "        vertical-align: top;\n",
       "    }\n",
       "\n",
       "    .dataframe thead th {\n",
       "        text-align: right;\n",
       "    }\n",
       "</style>\n",
       "<table border=\"1\" class=\"dataframe\">\n",
       "  <thead>\n",
       "    <tr style=\"text-align: right;\">\n",
       "      <th></th>\n",
       "      <th>AGE</th>\n",
       "      <th>ALCOHOL CONSUMING</th>\n",
       "      <th>ALLERGY</th>\n",
       "      <th>CHEST PAIN</th>\n",
       "      <th>WHEEZING</th>\n",
       "      <th>LUNG_CANCER</th>\n",
       "    </tr>\n",
       "  </thead>\n",
       "  <tbody>\n",
       "    <tr>\n",
       "      <th>0</th>\n",
       "      <td>69</td>\n",
       "      <td>1</td>\n",
       "      <td>0</td>\n",
       "      <td>1</td>\n",
       "      <td>1</td>\n",
       "      <td>1</td>\n",
       "    </tr>\n",
       "    <tr>\n",
       "      <th>1</th>\n",
       "      <td>74</td>\n",
       "      <td>0</td>\n",
       "      <td>1</td>\n",
       "      <td>1</td>\n",
       "      <td>0</td>\n",
       "      <td>1</td>\n",
       "    </tr>\n",
       "    <tr>\n",
       "      <th>2</th>\n",
       "      <td>59</td>\n",
       "      <td>0</td>\n",
       "      <td>0</td>\n",
       "      <td>1</td>\n",
       "      <td>1</td>\n",
       "      <td>0</td>\n",
       "    </tr>\n",
       "    <tr>\n",
       "      <th>3</th>\n",
       "      <td>63</td>\n",
       "      <td>1</td>\n",
       "      <td>0</td>\n",
       "      <td>1</td>\n",
       "      <td>0</td>\n",
       "      <td>0</td>\n",
       "    </tr>\n",
       "    <tr>\n",
       "      <th>4</th>\n",
       "      <td>63</td>\n",
       "      <td>0</td>\n",
       "      <td>0</td>\n",
       "      <td>0</td>\n",
       "      <td>1</td>\n",
       "      <td>0</td>\n",
       "    </tr>\n",
       "  </tbody>\n",
       "</table>\n",
       "</div>"
      ],
      "text/plain": [
       "   AGE  ALCOHOL CONSUMING  ALLERGY  CHEST PAIN  WHEEZING  LUNG_CANCER\n",
       "0   69                  1        0           1         1            1\n",
       "1   74                  0        1           1         0            1\n",
       "2   59                  0        0           1         1            0\n",
       "3   63                  1        0           1         0            0\n",
       "4   63                  0        0           0         1            0"
      ]
     },
     "execution_count": 3,
     "metadata": {},
     "output_type": "execute_result"
    }
   ],
   "source": [
    "dataset = pd.read_pickle(\"../data/processed/final_sm.pkl\")\n",
    "dataset.head()"
   ]
  },
  {
   "attachments": {},
   "cell_type": "markdown",
   "metadata": {},
   "source": [
    "### Modelling approach\n",
    "\n",
    "From this data above, I will use `Decision Tree` Classification algorithm.\n",
    "\n",
    "Why ?\n",
    "\n",
    "1. The data is non-linear datasets\n",
    "2. The data is mostly a boolean value, which mean is binary data"
   ]
  },
  {
   "attachments": {},
   "cell_type": "markdown",
   "metadata": {},
   "source": [
    "### Splitting the data\n",
    "\n",
    "Now we already has the ready to predict data, we already doing\n",
    "\n",
    "1. Pre-processed\n",
    "2. EDA\n",
    "3. Oversampling to handle imbalance\n",
    "\n",
    "\n",
    "Let's start the next step with `Splitting the data` into test and train"
   ]
  },
  {
   "cell_type": "code",
   "execution_count": 4,
   "metadata": {},
   "outputs": [],
   "source": [
    "X = dataset.drop(columns=[\"LUNG_CANCER\"], axis=1).values\n",
    "y = dataset[\"LUNG_CANCER\"].copy().values\n",
    "\n",
    "X_train, X_test, y_train, y_test = train_test_split(X, y, test_size=0.2, random_state=120)"
   ]
  },
  {
   "attachments": {},
   "cell_type": "markdown",
   "metadata": {},
   "source": [
    "Now we already split the train and test data.\n",
    "\n",
    "Let's continue on the next step"
   ]
  },
  {
   "attachments": {},
   "cell_type": "markdown",
   "metadata": {},
   "source": [
    "### Creating logging function\n",
    "\n",
    "This will be use to log the model training process.\n",
    "\n",
    "The purposes is to keep track on the logging process of the model we trained, to easier spotting bugs or anomaly performances."
   ]
  },
  {
   "cell_type": "code",
   "execution_count": 5,
   "metadata": {},
   "outputs": [],
   "source": [
    "from tabulate import tabulate\n",
    "\n",
    "\n",
    "def logging(log):\n",
    "    return {\n",
    "        \"model_uid\": log[\"model_uid\"],\n",
    "        \"model_name\": log[\"model_name\"],\n",
    "        \"training_time\": log[\"training_time\"],\n",
    "        \"training_date\": log[\"training_date\"],\n",
    "        \"recall\": log[\"recall\"],\n",
    "        \"f1_score\": log[\"f1_score\"],\n",
    "        \"data_config\": log[\"data_config\"],\n",
    "        \"confusion_matrix\": log[\"confusion_matrix\"]\n",
    "    }\n",
    "    \n",
    "def create_log(log):\n",
    "    with open(\"../log/log.txt\", \"a+\") as file:\n",
    "        try:\n",
    "            tableText = tabulate([log.values()], headers=log.keys())\n",
    "            file.write(tableText)\n",
    "            file.write(\"\\n \\n\")\n",
    "        except Exception as e:\n",
    "            print(e)\n",
    "            pass\n",
    "        "
   ]
  },
  {
   "attachments": {},
   "cell_type": "markdown",
   "metadata": {},
   "source": [
    "### Scaling the features\n",
    "\n",
    "Because the age has a big variance, we need to make it in a same scale with other features as well.\n",
    "\n",
    "We will use StandardScaler for this, to track from it's mean and std"
   ]
  },
  {
   "cell_type": "code",
   "execution_count": 6,
   "metadata": {},
   "outputs": [],
   "source": [
    "# Declaring logs\n",
    "log = {}\n",
    "log[\"model_uid\"] = uuid.uuid4()\n",
    "log[\"training_date\"] = datetime.today().strftime('%Y-%m-%d %H:%M:%S')\n",
    "log[\"data_config\"] = \"smote\"\n",
    "start = time.time()\n",
    "\n",
    "\n",
    "# StandardScaler object\n",
    "sc = StandardScaler()\n",
    "\n",
    "X_train = sc.fit_transform(X_train)\n",
    "X_test = sc.transform(X_test)"
   ]
  },
  {
   "attachments": {},
   "cell_type": "markdown",
   "metadata": {},
   "source": [
    "### Model fitting\n",
    "\n",
    "Now we need to train the model using the fitting method from `Decision Tree` classifier"
   ]
  },
  {
   "cell_type": "code",
   "execution_count": 7,
   "metadata": {},
   "outputs": [],
   "source": [
    "classifier = DecisionTreeClassifier(criterion=\"gini\", max_depth=3)\n",
    "log[\"model_name\"] = classifier.__class__\n",
    "\n",
    "classifier.fit(X_train, y_train)\n",
    "\n",
    "end = time.time()\n",
    "log[\"training_time\"] = end - start\n",
    "\n",
    "y_pred = classifier.predict(X_test)"
   ]
  },
  {
   "attachments": {},
   "cell_type": "markdown",
   "metadata": {},
   "source": [
    "### Attribute Selection\n",
    "\n",
    "Because we're doing the model training using `Decision Tree` Classifier, we need to know which features we will start to use to split.\n",
    "\n",
    "From the model above we use \"GINI INDEX\" as criterion, let's plot the decision tree to be able to analyze"
   ]
  },
  {
   "cell_type": "code",
   "execution_count": 8,
   "metadata": {},
   "outputs": [
    {
     "data": {
      "image/png": "[encoded data removed]",
      "text/plain": [
       "<Figure size 640x480 with 1 Axes>"
      ]
     },
     "metadata": {},
     "output_type": "display_data"
    }
   ],
   "source": [
    "tree.plot_tree(classifier)\n",
    "plt.show()"
   ]
  },
  {
   "attachments": {},
   "cell_type": "markdown",
   "metadata": {},
   "source": [
    "### Model metrics\n",
    "\n",
    "Let's check the metrics of the model, we need to know\n",
    "\n",
    "1. Recall\n",
    "2. F1 Score\n",
    "3. Confusion Matrix"
   ]
  },
  {
   "cell_type": "code",
   "execution_count": 9,
   "metadata": {},
   "outputs": [
    {
     "name": "stdout",
     "output_type": "stream",
     "text": [
      "Recall: 0.6521739130434783\n",
      "F1 Score: 0.75\n",
      "Confusion Metrics: [[58  4]\n",
      " [16 30]]\n"
     ]
    }
   ],
   "source": [
    "recall = metrics.recall_score(y_test, y_pred)\n",
    "f1_score = metrics.f1_score(y_test, y_pred)\n",
    "confusion_matrix = metrics.confusion_matrix(y_test, y_pred)\n",
    "\n",
    "log[\"recall\"] = recall\n",
    "log[\"f1_score\"] = f1_score\n",
    "log[\"confusion_matrix\"] = confusion_matrix\n",
    "\n",
    "print(\"Recall:\", recall)\n",
    "print(\"F1 Score:\", f1_score)\n",
    "print(\"Confusion Metrics:\", confusion_matrix)"
   ]
  },
  {
   "attachments": {},
   "cell_type": "markdown",
   "metadata": {},
   "source": [
    "Recall has a range around 0.65, which is pretty big and accurrate\n",
    "\n",
    "F1 Score has a range around 0.75, pretty accurrate too"
   ]
  },
  {
   "attachments": {},
   "cell_type": "markdown",
   "metadata": {},
   "source": [
    "Let's plot our Confusion metrics to understand the error"
   ]
  },
  {
   "cell_type": "code",
   "execution_count": 10,
   "metadata": {},
   "outputs": [
    {
     "data": {
      "image/png": "[encoded data removed]",
      "text/plain": [
       "<Figure size 640x480 with 2 Axes>"
      ]
     },
     "metadata": {},
     "output_type": "display_data"
    }
   ],
   "source": [
    "sns.heatmap(confusion_matrix, cmap=\"rocket_r\", annot=True)\n",
    "plt.show()"
   ]
  },
  {
   "attachments": {},
   "cell_type": "markdown",
   "metadata": {},
   "source": [
    "TN ( True Negative ) = Top Left corner\n",
    "\n",
    "FP ( False Positive ) = Top Right corner \n",
    "\n",
    "FN ( False Negative ) = Bottom Left corner\n",
    "\n",
    "TP ( True Positive ) = Bottom Right corner"
   ]
  },
  {
   "attachments": {},
   "cell_type": "markdown",
   "metadata": {},
   "source": [
    "Which mean we have 16 False Negative, which failed to predict 16 people has LUNG CANCER althought the person has it"
   ]
  },
  {
   "attachments": {},
   "cell_type": "markdown",
   "metadata": {},
   "source": [
    "### Saving log data\n",
    "\n",
    "We already save the log of the performances into `log` object, let's save the log"
   ]
  },
  {
   "cell_type": "code",
   "execution_count": 11,
   "metadata": {},
   "outputs": [],
   "source": [
    "save_log = logging(log)\n",
    "create_log(save_log)"
   ]
  },
  {
   "attachments": {},
   "cell_type": "markdown",
   "metadata": {},
   "source": [
    "### Saving model to pickle\n",
    "\n",
    "Let's save the model to pickle file into `models/decision_tree.pkl`\n",
    "\n",
    "We want to consume the model from the API, we can use to predict the data"
   ]
  },
  {
   "cell_type": "code",
   "execution_count": 12,
   "metadata": {},
   "outputs": [],
   "source": [
    "modelname = \"../models/decision_tree.pkl\"\n",
    "scalername = \"../models/decision_tree_scaler.pkl\"\n",
    "pickle.dump(classifier, open(modelname, \"wb\"))\n",
    "pickle.dump(sc, open(scalername, \"wb\"))"
   ]
  },
  {
   "attachments": {},
   "cell_type": "markdown",
   "metadata": {},
   "source": [
    "### Testing Pickle model\n",
    "\n",
    "Let's testing pickle model to predict data"
   ]
  },
  {
   "cell_type": "code",
   "execution_count": 14,
   "metadata": {},
   "outputs": [
    {
     "data": {
      "text/plain": [
       "array([1], dtype=int64)"
      ]
     },
     "execution_count": 14,
     "metadata": {},
     "output_type": "execute_result"
    }
   ],
   "source": [
    "dt = pickle.load(open(modelname,\"rb\"))\n",
    "dt_sc = pickle.load(open(scalername,\"rb\"))\n",
    "\n",
    "dummy = [[62, 1, 1, 0, 0]]\n",
    "dummy = dt_sc.transform(dummy)\n",
    "\n",
    "pred = dt.predict(dummy)\n",
    "pred"
   ]
  }
 ],
 "metadata": {
  "kernelspec": {
   "display_name": "venv",
   "language": "python",
   "name": "python3"
  },
  "language_info": {
   "codemirror_mode": {
    "name": "ipython",
    "version": 3
   },
   "file_extension": ".py",
   "mimetype": "text/x-python",
   "name": "python",
   "nbconvert_exporter": "python",
   "pygments_lexer": "ipython3",
   "version": "3.10.7"
  },
  "orig_nbformat": 4
 },
 "nbformat": 4,
 "nbformat_minor": 2
}
